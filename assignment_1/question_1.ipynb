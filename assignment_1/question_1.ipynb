{
 "cells": [
  {
   "cell_type": "markdown",
   "metadata": {},
   "source": [
    "## 1.a)"
   ]
  },
  {
   "cell_type": "markdown",
   "metadata": {},
   "source": [
    "### Part 1. Generate 100 observations using only U[0, 1]"
   ]
  },
  {
   "cell_type": "code",
   "execution_count": 26,
   "metadata": {},
   "outputs": [],
   "source": [
    "import numpy as np\n",
    "import pandas as pd\n",
    "from scipy.stats import norm\n",
    "\n",
    "\n",
    "# Set random seed to student number\n",
    "np.random.seed(46387334) # TODO: UNCOMMENT\n",
    "\n",
    "# Variables that make up multivariate normal distribution\n",
    "vars_h = [\n",
    "    'logcp',\n",
    "    'ejection_fraction',\n",
    "    'sqrtplat',\n",
    "    'recipsc',\n",
    "    'serum_sodium'\n",
    "]\n",
    "n_vars = len(vars_h)\n",
    "\n",
    "# mu_h hat - Mean vector for multivariate normal distribution\n",
    "mu_h = np.array([\n",
    "    [5.66 ],\n",
    "    [38.1 ],\n",
    "    [505  ],\n",
    "    [0.861],\n",
    "    [137  ]\n",
    "])\n",
    "\n",
    "# Sigma_h hat - Covariance matrix for multivariate normal distribution\n",
    "sigma_h = np.array([\n",
    "    [1.29,   -0.928, 1.01,   0.0235, 0.0953],\n",
    "    [-0.928, 140,    77.8,   0.514,  9.19  ],\n",
    "    [1.01,   77.8,   8757,   1.82,   23.0  ],\n",
    "    [0.0235, 0.514,  1.82,   0.100,  0.354 ],\n",
    "    [0.0953, 9.19,   23.0,   0.354,  19.5  ]\n",
    "])\n",
    "\n",
    "\n",
    "# Number of observations to generate\n",
    "n_obs = 100\n",
    "\n",
    "# 1. Generate multivariate uniform observations from U[0, 1]\n",
    "# i.e. Multivariate Uniform disribution with the same dimentions as our multivariate normal\n",
    "obs_uniform = np.random.uniform(low=0, high=1, size=(n_vars, n_obs))\n",
    "\n",
    "# 2. Convert uniform observations to multivariate standard normal observations i.e. N(0, I) \n",
    "# norm.ppf comuptes the inverse of the cdf\n",
    "obs_std_norm = norm.ppf(obs_uniform)\n",
    "\n",
    "# 3. Convert standard normal observations to our multivariate normal\n",
    "# 3.1. Determine decomposition of the covariance matrix\n",
    "A_h = np.linalg.cholesky(sigma_h)\n",
    "\n",
    "# 3.2. Convert observations\n",
    "obs_h = mu_h + A_h @ obs_std_norm\n",
    "\n",
    "\n",
    "# Save the data to a csv\n",
    "df = pd.DataFrame(obs_h, columns=vars_h)\n",
    "df.to_csv('question_1_obs.csv', index=False)\n",
    "\n"
   ]
  },
  {
   "cell_type": "markdown",
   "metadata": {},
   "source": [
    "### Part 2. Estimate parameters based on observations"
   ]
  }
 ],
 "metadata": {
  "kernelspec": {
   "display_name": ".venv",
   "language": "python",
   "name": "python3"
  },
  "language_info": {
   "codemirror_mode": {
    "name": "ipython",
    "version": 3
   },
   "file_extension": ".py",
   "mimetype": "text/x-python",
   "name": "python",
   "nbconvert_exporter": "python",
   "pygments_lexer": "ipython3",
   "version": "3.12.4"
  }
 },
 "nbformat": 4,
 "nbformat_minor": 2
}
