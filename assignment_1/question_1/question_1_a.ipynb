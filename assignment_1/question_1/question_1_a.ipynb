{
 "cells": [
  {
   "cell_type": "code",
   "execution_count": 75,
   "metadata": {},
   "outputs": [],
   "source": [
    "import numpy as np\n",
    "from numpy import ma\n",
    "import pandas as pd\n",
    "from scipy.stats import norm\n",
    "\n",
    "np.set_printoptions(precision=5, suppress=True)\n",
    "\n",
    "# Set random seed to student number\n",
    "np.random.seed(46387334) # TODO: UNCOMMENT"
   ]
  },
  {
   "cell_type": "code",
   "execution_count": 76,
   "metadata": {},
   "outputs": [],
   "source": [
    "# Helper functions\n",
    "def sig_fig(X, sigfigs):\n",
    "    exp = np.floor(ma.log10(abs(X)).filled(0))\n",
    "    return np.round(X*10**-exp, sigfigs-1) * 10**exp\n",
    "\n",
    "def get_diff(a1, a2):\n",
    "    print(f\"{a1.shape=}\")\n",
    "    print(f\"{a2.shape=}\")\n",
    "\n",
    "    rows, cols = a1.shape\n",
    "    for i in range(rows):\n",
    "        for j in range(cols):\n",
    "            print(f\"[{i},{j}]: {round(a1[i, j], 3) :>5} vs {round(a2[i, j], 3) :>7}  |  Error: {(a1[i, j] - a2[i, j]) * (100 / a1[i, j])  :.2f}%\")"
   ]
  },
  {
   "cell_type": "markdown",
   "metadata": {},
   "source": [
    "## 1.a)"
   ]
  },
  {
   "cell_type": "markdown",
   "metadata": {},
   "source": [
    "### Part 1. Generate 100 observations using only U[0, 1]"
   ]
  },
  {
   "cell_type": "code",
   "execution_count": 77,
   "metadata": {},
   "outputs": [],
   "source": [
    "# Variables that make up multivariate normal distribution\n",
    "vars_h = [\n",
    "    'logcp',\n",
    "    'ejection_fraction',\n",
    "    'sqrtplat',\n",
    "    'recipsc',\n",
    "    'serum_sodium'\n",
    "]\n",
    "n_vars = len(vars_h)\n",
    "\n",
    "# mu_h hat - Mean vector for multivariate normal distribution\n",
    "mu_h = np.array([\n",
    "    [5.66 ],\n",
    "    [38.1 ],\n",
    "    [505  ],\n",
    "    [0.861],\n",
    "    [137  ]\n",
    "])\n",
    "\n",
    "# Sigma_h hat - Covariance matrix for multivariate normal distribution\n",
    "sigma_h = np.array([\n",
    "    [1.29,   -0.928, 1.01,   0.0235, 0.0953],\n",
    "    [-0.928, 140,    77.8,   0.514,  9.19  ],\n",
    "    [1.01,   77.8,   8757,   1.82,   23.0  ],\n",
    "    [0.0235, 0.514,  1.82,   0.100,  0.354 ],\n",
    "    [0.0953, 9.19,   23.0,   0.354,  19.5  ]\n",
    "])\n",
    "\n",
    "\n",
    "# Number of observations to generate\n",
    "n_obs = 100\n",
    "\n",
    "# 1. Generate multivariate uniform observations from U[0, 1]\n",
    "# i.e. Multivariate Uniform disribution with the same dimentions as our multivariate normal\n",
    "obs_uniform = np.random.uniform(low=0, high=1, size=(n_vars, n_obs))\n",
    "\n",
    "# 2. Convert uniform observations to multivariate standard normal observations i.e. N(0, I) \n",
    "# norm.ppf comuptes the inverse of the cdf\n",
    "obs_std_norm = norm.ppf(obs_uniform)\n",
    "\n",
    "# 3. Convert standard normal observations to our multivariate normal\n",
    "# 3.1. Determine decomposition of the covariance matrix\n",
    "A_h = np.linalg.cholesky(sigma_h)\n",
    "\n",
    "# 3.2. Convert observations\n",
    "obs_h = mu_h + A_h @ obs_std_norm\n",
    "\n",
    "# Save the data to a csv\n",
    "# Transpose the data to ensure that each row represents a sample\n",
    "df = pd.DataFrame(obs_h.T, columns=vars_h)\n",
    "df.to_csv('question_1_a_obs.csv', index=False)"
   ]
  },
  {
   "cell_type": "markdown",
   "metadata": {},
   "source": [
    "### Part 2. Estimate parameters based on observations"
   ]
  },
  {
   "cell_type": "code",
   "execution_count": 78,
   "metadata": {},
   "outputs": [
    {
     "name": "stdout",
     "output_type": "stream",
     "text": [
      "Estimated Mu:\n",
      "[[  5.5101 ]\n",
      " [ 39.127  ]\n",
      " [506.65   ]\n",
      " [  0.84898]\n",
      " [136.5    ]]\n",
      "\n",
      "Estimated Sigma:\n",
      "[[   1.1266    -1.4698     5.8935    -0.02918   -0.0236 ]\n",
      " [  -1.4698   150.84     -38.346      1.0062    16.898  ]\n",
      " [   5.8935   -38.346   9725.3        0.34479   30.115  ]\n",
      " [  -0.02918    1.0062     0.34479    0.07184    0.2428 ]\n",
      " [  -0.0236    16.898     30.115      0.2428    18.044  ]]\n",
      "\n",
      "Estimated Correlation:\n",
      "[[   1.1266    -1.4698     5.8935    -0.02918   -0.0236 ]\n",
      " [  -1.4698   150.84     -38.346      1.0062    16.898  ]\n",
      " [   5.8935   -38.346   9725.3        0.34479   30.115  ]\n",
      " [  -0.02918    1.0062     0.34479    0.07184    0.2428 ]\n",
      " [  -0.0236    16.898     30.115      0.2428    18.044  ]]\n"
     ]
    }
   ],
   "source": [
    "# Estimate the mean and cov based on the observations\n",
    "est_mu_h = np.mean(obs_h, axis=1, keepdims=True)\n",
    "print(\"Estimated Mu:\")\n",
    "print(sig_fig(est_mu_h, 5))\n",
    "\n",
    "est_sigma_h = np.cov(obs_h)\n",
    "print(\"\\nEstimated Sigma:\")\n",
    "print(sig_fig(est_sigma_h, 5))\n",
    "\n",
    "est_corr = np.corrcoef(obs_h)\n",
    "print(\"\\nEstimated Correlation:\")\n",
    "print(sig_fig(est_sigma_h, 5))"
   ]
  }
 ],
 "metadata": {
  "kernelspec": {
   "display_name": ".venv",
   "language": "python",
   "name": "python3"
  },
  "language_info": {
   "codemirror_mode": {
    "name": "ipython",
    "version": 3
   },
   "file_extension": ".py",
   "mimetype": "text/x-python",
   "name": "python",
   "nbconvert_exporter": "python",
   "pygments_lexer": "ipython3",
   "version": "3.12.4"
  }
 },
 "nbformat": 4,
 "nbformat_minor": 2
}
