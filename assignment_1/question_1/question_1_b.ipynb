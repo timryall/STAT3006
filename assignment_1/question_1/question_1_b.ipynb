{
 "cells": [
  {
   "cell_type": "code",
   "execution_count": 2,
   "metadata": {},
   "outputs": [],
   "source": [
    "import numpy as np\n",
    "from numpy import ma\n",
    "import pandas as pd\n",
    "from scipy.stats import norm\n",
    "\n",
    "np.set_printoptions(precision=5, suppress=True)\n",
    "\n",
    "# Set random seed to student number\n",
    "np.random.seed(46387334) # TODO: UNCOMMENT"
   ]
  },
  {
   "cell_type": "code",
   "execution_count": 3,
   "metadata": {},
   "outputs": [],
   "source": [
    "# Helper functions\n",
    "def sig_fig(X, sigfigs):\n",
    "    exp = np.floor(ma.log10(abs(X)).filled(0))\n",
    "    return np.round(X*10**-exp, sigfigs-1) * 10**exp\n",
    "\n",
    "def get_diff(a1, a2):\n",
    "    print(f\"{a1.shape=}\")\n",
    "    print(f\"{a2.shape=}\")\n",
    "\n",
    "    rows, cols = a1.shape\n",
    "    for i in range(rows):\n",
    "        for j in range(cols):\n",
    "            print(f\"[{i},{j}]: {round(a1[i, j], 3) :>5} vs {round(a2[i, j], 3) :>7}  |  Error: {(a1[i, j] - a2[i, j]) * (100 / a1[i, j])  :.2f}%\")"
   ]
  },
  {
   "cell_type": "markdown",
   "metadata": {},
   "source": [
    "## 1.b)"
   ]
  },
  {
   "cell_type": "code",
   "execution_count": 11,
   "metadata": {},
   "outputs": [],
   "source": [
    "# Variables that make up multivariate normal distribution\n",
    "vars_h = [\n",
    "    'logcp',\n",
    "    'ejection_fraction',\n",
    "    'sqrtplat',\n",
    "    'recipsc',\n",
    "    'serum_sodium'\n",
    "]\n",
    "n_vars = len(vars_h)\n",
    "\n",
    "# mu_h hat - Mean vector for multivariate normal distribution\n",
    "mu_h = np.array([\n",
    "    [5.66 ],\n",
    "    [38.1 ],\n",
    "    [505  ],\n",
    "    [0.891],\n",
    "    [137  ]\n",
    "])\n",
    "\n",
    "# Sigma_h hat - Covariance matrix for multivariate normal distribution\n",
    "sigma_h = np.array([\n",
    "    [1.29,   -0.928, 1.01,   0.0235, 0.0953],\n",
    "    [-0.928, 140,    77.8,   0.514,  9.19  ],\n",
    "    [1.01,   77.8,   8757,   1.82,   23.0  ],\n",
    "    [0.0235, 0.514,  1.82,   0.100,  0.354 ],\n",
    "    [0.0953, 9.19,   23.0,   0.354,  19.5  ]\n",
    "])"
   ]
  },
  {
   "cell_type": "markdown",
   "metadata": {},
   "source": [
    "### Part 1. Determine the conditional distribution"
   ]
  },
  {
   "cell_type": "code",
   "execution_count": 14,
   "metadata": {},
   "outputs": [
    {
     "name": "stdout",
     "output_type": "stream",
     "text": [
      "Conditional Mean:\n",
      "[[ 36.28745]\n",
      " [503.26812]]\n",
      "\n",
      "Conditional Covariance:\n",
      "[[ 133.51654   62.22592]\n",
      " [  62.22592 8708.59787]]\n"
     ]
    }
   ],
   "source": [
    "# Variable Sets\n",
    "A = [1, 2]     # Unknown Variables (ejection_fraction and sqrtplat)\n",
    "B = [0, 3, 4]  # Known Variables (recipsc, serum_sodium, logcp)\n",
    "\n",
    "# Observed values of x2 (recipsc, serum_sodium, logcp)\n",
    "x_B = np.array([[8], [0.4], [142]])\n",
    "\n",
    "# Partition the mean vector\n",
    "mu_A = mu_h[A]\n",
    "mu_B = mu_h[B]\n",
    "\n",
    "# Partition the covariance matrix\n",
    "sigma_AA = sigma_h[np.ix_(A, A)]\n",
    "sigma_AB = sigma_h[np.ix_(A, B)]\n",
    "sigma_BB = sigma_h[np.ix_(B, B)]\n",
    "\n",
    "# Conditional mean\n",
    "mu_cond = mu_A + sigma_AB @ np.linalg.inv(sigma_BB) @ (x_B - mu_B)\n",
    "\n",
    "# Conditional covariance\n",
    "sigma_cond = sigma_AA - sigma_AB @ np.linalg.inv(sigma_BB) @ sigma_AB.T\n",
    "\n",
    "print(f\"Conditional Mean:\\n{mu_cond}\")\n",
    "print(f\"\\nConditional Covariance:\\n{sigma_cond}\")"
   ]
  },
  {
   "cell_type": "markdown",
   "metadata": {},
   "source": [
    "### Part 2. Determine the partial correlation matrix"
   ]
  },
  {
   "cell_type": "code",
   "execution_count": 22,
   "metadata": {},
   "outputs": [
    {
     "name": "stdout",
     "output_type": "stream",
     "text": [
      "Partial Correlation Matrix:\n",
      "[[1.      0.05771]\n",
      " [0.05771 1.     ]]\n"
     ]
    }
   ],
   "source": [
    "# Calculate the standard deviations from the conditional covariance matrix\n",
    "std_devs = np.sqrt(np.diag(sigma_cond))\n",
    "\n",
    "# Calculate the partial correlation matrix\n",
    "partial_corr_matrix = sigma_cond / np.outer(std_devs, std_devs)\n",
    "\n",
    "print(f\"Partial Correlation Matrix:\\n{partial_corr_matrix}\")"
   ]
  },
  {
   "cell_type": "markdown",
   "metadata": {},
   "source": [
    "### Part 3. Use this distribution to predict the ejection fraction and platelet count values for this patient and describe the unusualness or ortherwise of this pair of values in the overall patient distribution"
   ]
  },
  {
   "cell_type": "code",
   "execution_count": 21,
   "metadata": {},
   "outputs": [
    {
     "name": "stdout",
     "output_type": "stream",
     "text": [
      "0.0577064015\n"
     ]
    }
   ],
   "source": [
    "print(f\"{62.22592 / np.sqrt(133.52 * 8708.6):.10f}\")"
   ]
  }
 ],
 "metadata": {
  "kernelspec": {
   "display_name": ".venv",
   "language": "python",
   "name": "python3"
  },
  "language_info": {
   "codemirror_mode": {
    "name": "ipython",
    "version": 3
   },
   "file_extension": ".py",
   "mimetype": "text/x-python",
   "name": "python",
   "nbconvert_exporter": "python",
   "pygments_lexer": "ipython3",
   "version": "3.12.4"
  }
 },
 "nbformat": 4,
 "nbformat_minor": 2
}
