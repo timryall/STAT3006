{
 "cells": [
  {
   "cell_type": "code",
   "execution_count": 2,
   "metadata": {},
   "outputs": [],
   "source": [
    "import pandas as pd\n",
    "import numpy as np\n",
    "from sklearn.preprocessing import StandardScaler\n",
    "from sklearn.decomposition import PCA\n",
    "from ucimlrepo import fetch_ucirepo\n",
    "\n",
    "\n",
    "np.set_printoptions(precision=5, suppress=True)\n",
    "\n",
    "# Set random seed to student number\n",
    "np.random.seed(46387334) # TODO: UNCOMMENT"
   ]
  },
  {
   "cell_type": "code",
   "execution_count": 3,
   "metadata": {},
   "outputs": [],
   "source": [
    "# Helper functions\n",
    "def sig_fig(X, sigfigs):\n",
    "    exp = np.floor(ma.log10(abs(X)).filled(0))\n",
    "    return np.round(X*10**-exp, sigfigs-1) * 10**exp\n",
    "\n",
    "def get_diff(a1, a2):\n",
    "    print(f\"{a1.shape=}\")\n",
    "    print(f\"{a2.shape=}\")\n",
    "\n",
    "    rows, cols = a1.shape\n",
    "    for i in range(rows):\n",
    "        for j in range(cols):\n",
    "            print(f\"[{i},{j}]: {round(a1[i, j], 3) :>5} vs {round(a2[i, j], 3) :>7}  |  Error: {(a1[i, j] - a2[i, j]) * (100 / a1[i, j])  :.2f}%\")"
   ]
  },
  {
   "cell_type": "markdown",
   "metadata": {},
   "source": [
    "## 2.a)"
   ]
  },
  {
   "cell_type": "code",
   "execution_count": 4,
   "metadata": {},
   "outputs": [
    {
     "name": "stdout",
     "output_type": "stream",
     "text": [
      "Principal Components (Original Data):\n",
      "[[ 0.00011  0.00903  0.99996  0.00021  0.00264]\n",
      " [-0.00669  0.99717 -0.0092   0.00373  0.07422]\n",
      " [ 0.0093  -0.07423 -0.00197  0.01673  0.99706]\n",
      " [ 0.99973  0.0073  -0.00016  0.02009 -0.00911]\n",
      " [-0.02022 -0.00263 -0.00014  0.99965 -0.01678]]\n",
      "\n",
      "Principal Components (Normalized Data):\n",
      "[[ 0.04381  0.48677  0.25249  0.57883  0.60195]\n",
      " [ 0.87622 -0.41037 -0.04939  0.24117  0.05689]\n",
      " [ 0.09024 -0.04778  0.95792 -0.16265 -0.21332]\n",
      " [ 0.46437  0.75945 -0.12267 -0.36123 -0.24913]\n",
      " [ 0.0809  -0.1249   0.03391 -0.67071  0.72584]]\n"
     ]
    }
   ],
   "source": [
    "from ucimlrepo import fetch_ucirepo \n",
    "\n",
    "# Fetch dataset from https://archive.ics.uci.edu/dataset/519/heart+failure+clinical+records\n",
    "heart_failure_clinical_records = fetch_ucirepo(id=519) \n",
    "  \n",
    "# Extract data (as pandas dataframes) \n",
    "X = heart_failure_clinical_records.data.features \n",
    "y = heart_failure_clinical_records.data.targets \n",
    "\n",
    "# Transform the needed columns into the \"normal\" forms\n",
    "X['logcp']    = np.log(X['creatinine_phosphokinase'])\n",
    "X['sqrtplat'] = np.sqrt(X['platelets'])\n",
    "X['recipsc']  = 1 / X['serum_creatinine']\n",
    "\n",
    "# Redfine X to just be the 5 columns of interest\n",
    "cols_to_keep = ['logcp', 'ejection_fraction', 'sqrtplat', 'recipsc', 'serum_sodium']\n",
    "X_trans      = X[cols_to_keep]\n",
    "\n",
    "# Normalize the dataset\n",
    "scaler = StandardScaler()\n",
    "X_norm = scaler.fit_transform(X_trans)\n",
    "\n",
    "\n",
    "# Perform PCA on the original dataset\n",
    "pca_original = PCA()\n",
    "pca_original.fit(X_trans)\n",
    "principal_components_original = pca_original.components_\n",
    "\n",
    "# Perform PCA on the normalized dataset\n",
    "pca_normalized = PCA()\n",
    "pca_normalized.fit(X_norm)\n",
    "principal_components_normalized = pca_normalized.components_\n",
    "\n",
    "# Report the principal component direction vectors\n",
    "print(\"Principal Components (Original Data):\")\n",
    "print(principal_components_original)\n",
    "\n",
    "\n",
    "print(\"\\nPrincipal Components (Normalized Data):\")\n",
    "print(principal_components_normalized)\n"
   ]
  }
 ],
 "metadata": {
  "kernelspec": {
   "display_name": ".venv",
   "language": "python",
   "name": "python3"
  },
  "language_info": {
   "codemirror_mode": {
    "name": "ipython",
    "version": 3
   },
   "file_extension": ".py",
   "mimetype": "text/x-python",
   "name": "python",
   "nbconvert_exporter": "python",
   "pygments_lexer": "ipython3",
   "version": "3.12.4"
  }
 },
 "nbformat": 4,
 "nbformat_minor": 2
}
