{
 "cells": [
  {
   "cell_type": "code",
   "execution_count": 2,
   "metadata": {},
   "outputs": [],
   "source": [
    "import matplotlib.pyplot as plt\n",
    "import numpy as np\n",
    "from sklearn.decomposition import PCA\n",
    "from sklearn.preprocessing import StandardScaler\n",
    "from ucimlrepo import fetch_ucirepo\n",
    "from matplotlib.colors import ListedColormap\n",
    "\n",
    "\n",
    "\n",
    "np.set_printoptions(precision=5, suppress=True)\n",
    "\n",
    "# Set random seed to student number\n",
    "np.random.seed(46387334) # TODO: UNCOMMENT"
   ]
  },
  {
   "cell_type": "code",
   "execution_count": 3,
   "metadata": {},
   "outputs": [],
   "source": [
    "# Helper functions\n",
    "def sig_fig(X, sigfigs):\n",
    "    exp = np.floor(ma.log10(abs(X)).filled(0))\n",
    "    return np.round(X*10**-exp, sigfigs-1) * 10**exp\n",
    "\n",
    "def get_diff(a1, a2):\n",
    "    print(f\"{a1.shape=}\")\n",
    "    print(f\"{a2.shape=}\")\n",
    "\n",
    "    rows, cols = a1.shape\n",
    "    for i in range(rows):\n",
    "        for j in range(cols):\n",
    "            print(f\"[{i},{j}]: {round(a1[i, j], 3) :>5} vs {round(a2[i, j], 3) :>7}  |  Error: {(a1[i, j] - a2[i, j]) * (100 / a1[i, j])  :.2f}%\")"
   ]
  },
  {
   "cell_type": "markdown",
   "metadata": {},
   "source": [
    "## 2.d)"
   ]
  },
  {
   "cell_type": "code",
   "execution_count": 1,
   "metadata": {},
   "outputs": [
    {
     "name": "stdout",
     "output_type": "stream",
     "text": [
      "Point with the largest Mahalanobis distance: 199\n",
      "Largest Mahalanobis distance value: 5.595096595740964\n",
      "Point data:\n",
      "logcp                  7.099202\n",
      "ejection_fraction     35.000000\n",
      "sqrtplat             513.184207\n",
      "recipsc                0.555556\n",
      "serum_sodium         113.000000\n",
      "Name: 199, dtype: float64\n"
     ]
    }
   ],
   "source": [
    "import numpy as np\n",
    "import pandas as pd\n",
    "from scipy.spatial.distance import mahalanobis\n",
    "from ucimlrepo import fetch_ucirepo \n",
    "\n",
    "# Fetch dataset from https://archive.ics.uci.edu/dataset/519/heart+failure+clinical+records\n",
    "heart_failure_clinical_records = fetch_ucirepo(id=519) \n",
    "  \n",
    "# Extract data (as pandas dataframes) \n",
    "X = heart_failure_clinical_records.data.features \n",
    "y = heart_failure_clinical_records.data.targets \n",
    "\n",
    "# Transform the needed columns into the \"normal\" forms\n",
    "X['logcp']    = np.log(X['creatinine_phosphokinase'])\n",
    "X['sqrtplat'] = np.sqrt(X['platelets'])\n",
    "X['recipsc']  = 1 / X['serum_creatinine']\n",
    "\n",
    "# Redfine X to just be the 5 columns of interest\n",
    "cols_to_keep = ['logcp', 'ejection_fraction', 'sqrtplat', 'recipsc', 'serum_sodium']\n",
    "X_trans      = X[cols_to_keep]\n",
    "\n",
    "# Assume X_trans is the un-normalized dataset with the relevant columns\n",
    "# Compute the sample mean vector\n",
    "mean_vector = X_trans.mean(axis=0).values\n",
    "\n",
    "# Compute the covariance matrix of the dataset\n",
    "cov_matrix = np.cov(X_trans.T)\n",
    "\n",
    "# Compute the inverse of the covariance matrix\n",
    "inv_cov_matrix = np.linalg.inv(cov_matrix)\n",
    "\n",
    "# Compute Mahalanobis distance for each data point\n",
    "mahalanobis_distances = []\n",
    "for i in range(X_trans.shape[0]):\n",
    "    x_i = X_trans.iloc[i].values\n",
    "    diff_vector = x_i - mean_vector\n",
    "    mahalanobis_dist = np.sqrt(np.dot(np.dot(diff_vector.T, inv_cov_matrix), diff_vector))\n",
    "    mahalanobis_distances.append(mahalanobis_dist)\n",
    "\n",
    "# Convert distances to a pandas Series to identify the point with the largest distance\n",
    "mahalanobis_distances = pd.Series(mahalanobis_distances)\n",
    "\n",
    "# Identify the point with the largest Mahalanobis distance\n",
    "max_mahalanobis_index = mahalanobis_distances.idxmax()\n",
    "max_mahalanobis_value = mahalanobis_distances[max_mahalanobis_index]\n",
    "\n",
    "print(f\"Point with the largest Mahalanobis distance: {max_mahalanobis_index}\")\n",
    "print(f\"Largest Mahalanobis distance value: {max_mahalanobis_value}\")\n",
    "print(f\"Point data:\\n{X_trans.iloc[max_mahalanobis_index]}\")\n"
   ]
  }
 ],
 "metadata": {
  "kernelspec": {
   "display_name": ".venv",
   "language": "python",
   "name": "python3"
  },
  "language_info": {
   "codemirror_mode": {
    "name": "ipython",
    "version": 3
   },
   "file_extension": ".py",
   "mimetype": "text/x-python",
   "name": "python",
   "nbconvert_exporter": "python",
   "pygments_lexer": "ipython3",
   "version": "3.12.4"
  }
 },
 "nbformat": 4,
 "nbformat_minor": 2
}
