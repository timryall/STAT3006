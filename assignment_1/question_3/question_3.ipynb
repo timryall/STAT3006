{
 "cells": [
  {
   "cell_type": "code",
   "execution_count": 101,
   "metadata": {},
   "outputs": [],
   "source": [
    "import matplotlib.pyplot as plt\n",
    "import numpy as np\n",
    "from sklearn.decomposition import PCA\n",
    "from sklearn.preprocessing import StandardScaler\n",
    "from ucimlrepo import fetch_ucirepo\n",
    "from matplotlib.colors import ListedColormap\n",
    "\n",
    "\n",
    "\n",
    "np.set_printoptions(precision=5, suppress=True)\n",
    "\n",
    "# Set random seed to student number\n",
    "np.random.seed(46387334) # TODO: UNCOMMENT"
   ]
  },
  {
   "cell_type": "code",
   "execution_count": 102,
   "metadata": {},
   "outputs": [],
   "source": [
    "# Helper functions\n",
    "def sig_fig(X, sigfigs):\n",
    "    exp = np.floor(ma.log10(abs(X)).filled(0))\n",
    "    return np.round(X*10**-exp, sigfigs-1) * 10**exp\n",
    "\n",
    "def get_diff(a1, a2):\n",
    "    print(f\"{a1.shape=}\")\n",
    "    print(f\"{a2.shape=}\")\n",
    "\n",
    "    rows, cols = a1.shape\n",
    "    for i in range(rows):\n",
    "        for j in range(cols):\n",
    "            print(f\"[{i},{j}]: {round(a1[i, j], 3) :>5} vs {round(a2[i, j], 3) :>7}  |  Error: {(a1[i, j] - a2[i, j]) * (100 / a1[i, j])  :.2f}%\")"
   ]
  },
  {
   "cell_type": "markdown",
   "metadata": {},
   "source": [
    "## 2.3)"
   ]
  },
  {
   "cell_type": "code",
   "execution_count": 103,
   "metadata": {},
   "outputs": [],
   "source": [
    "from ucimlrepo import fetch_ucirepo \n",
    "\n",
    "# Fetch dataset from https://archive.ics.uci.edu/dataset/519/heart+failure+clinical+records\n",
    "heart_failure_clinical_records = fetch_ucirepo(id=519) \n",
    "  \n",
    "# Extract data (as pandas dataframes) \n",
    "X = heart_failure_clinical_records.data.features \n",
    "y = heart_failure_clinical_records.data.targets \n",
    "\n",
    "# Transform the needed columns into the \"normal\" forms\n",
    "X['logcp']    = np.log(X['creatinine_phosphokinase'])\n",
    "X['sqrtplat'] = np.sqrt(X['platelets'])\n",
    "X['recipsc']  = 1 / X['serum_creatinine']\n",
    "\n",
    "# Redfine X to just be the 5 columns of interest\n",
    "cols_to_keep           = ['logcp', 'ejection_fraction', 'sqrtplat', 'recipsc', 'serum_sodium']\n",
    "X_trans                = X[cols_to_keep]\n",
    "\n",
    "# Normalize the dataset\n",
    "scaler = StandardScaler()\n",
    "X_norm = scaler.fit_transform(X_trans)\n",
    "X_norm = pd.DataFrame(X_norm, columns=X_trans.columns)\n",
    "\n",
    "# Preform PCA on the data set\n",
    "pca = PCA()\n",
    "X_pca = pca.fit_transform(X_norm)\n",
    "X_pca = pd.DataFrame(X_pca)"
   ]
  },
  {
   "cell_type": "markdown",
   "metadata": {},
   "source": [
    "### 3. Part 1 - Preform Hotelling’s T2 Test"
   ]
  },
  {
   "cell_type": "code",
   "execution_count": null,
   "metadata": {},
   "outputs": [],
   "source": [
    "X_norm['death_event'] = y\n",
    "X_norm.to_csv('X_norm.csv', index=False)\n",
    "\n",
    "X_trans['death_event'] = y\n",
    "X_trans.to_csv('X_trans.csv', index=False)\n",
    "\n",
    "X_pca['death_event'] = y\n",
    "X_pca.to_csv('X_pca.csv', index=False)"
   ]
  },
  {
   "cell_type": "code",
   "execution_count": 104,
   "metadata": {},
   "outputs": [
    {
     "name": "stdout",
     "output_type": "stream",
     "text": [
      "\n",
      "\n",
      "Normalised\n",
      "Test stat:  68.488 \n",
      "Numerator df:  5 \n",
      "Denominator df:  293 \n",
      "P-value:  7.19e-12 \n",
      "\n",
      "\n",
      "\n",
      "Un Normalised\n",
      "Test stat:  68.488 \n",
      "Numerator df:  5 \n",
      "Denominator df:  293 \n",
      "P-value:  7.19e-12 \n",
      "\n",
      "\n",
      "\n",
      "Normalised + PCA\n",
      "Test stat:  68.488 \n",
      "Numerator df:  5 \n",
      "Denominator df:  293 \n",
      "P-value:  7.19e-12 \n",
      "\n"
     ]
    },
    {
     "name": "stderr",
     "output_type": "stream",
     "text": [
      "/tmp/ipykernel_150074/52459320.py:33: SettingWithCopyWarning: \n",
      "A value is trying to be set on a copy of a slice from a DataFrame.\n",
      "Try using .loc[row_indexer,col_indexer] = value instead\n",
      "\n",
      "See the caveats in the documentation: https://pandas.pydata.org/pandas-docs/stable/user_guide/indexing.html#returning-a-view-versus-a-copy\n",
      "  X_trans['death_event'] = y\n"
     ]
    }
   ],
   "source": [
    "from rpy2.robjects import pandas2ri\n",
    "import rpy2.robjects as ro\n",
    "\n",
    "\n",
    "def run_ht2(data_file):\n",
    "    pandas2ri.activate()\n",
    "    r_code = f\"\"\"\n",
    "    library(Hotelling)\n",
    "\n",
    "    data <- read.csv(\"{data_file}\")\n",
    "\n",
    "    # Separate the groups\n",
    "    group0 <- data[data$death_event == 0, 1:5]\n",
    "    group1 <- data[data$death_event == 1, 1:5]\n",
    "\n",
    "    # Perform Hotelling's T2 test\n",
    "    test_result <- hotelling.test(group0, group1)\n",
    "    test_result\n",
    "    \"\"\"\n",
    "    # Execute the R code\n",
    "    result = ro.r(r_code)\n",
    "    print(result)\n",
    "\n",
    "\n",
    "# Nomormalised\n",
    "print(\"\\n\\nNormalised\")\n",
    "run_ht2('X_norm.csv')\n",
    "\n",
    "# Un nomormalised\n",
    "print(\"\\n\\nUn Normalised\")\n",
    "run_ht2('X_trans.csv')\n",
    "\n",
    "# Normalised followed by PCA\n",
    "print(\"\\n\\nNormalised + PCA\")\n",
    "run_ht2('X_pca.csv')\n"
   ]
  },
  {
   "cell_type": "code",
   "execution_count": 108,
   "metadata": {},
   "outputs": [
    {
     "name": "stdout",
     "output_type": "stream",
     "text": [
      "\n",
      "\n",
      "Normalised\n"
     ]
    },
    {
     "ename": "ValueError",
     "evalue": "Not an rpy2 R object and unable to map it to one: np.str_('logcp')",
     "output_type": "error",
     "traceback": [
      "\u001b[0;31m---------------------------------------------------------------------------\u001b[0m",
      "\u001b[0;31mAttributeError\u001b[0m                            Traceback (most recent call last)",
      "File \u001b[0;32m~/repos/uq/STAT3006/.venv/lib/python3.12/site-packages/rpy2/rinterface_lib/conversion.py:179\u001b[0m, in \u001b[0;36m_get_cdata\u001b[0;34m(obj)\u001b[0m\n\u001b[1;32m    178\u001b[0m \u001b[38;5;28;01mtry\u001b[39;00m:\n\u001b[0;32m--> 179\u001b[0m     cdata \u001b[38;5;241m=\u001b[39m \u001b[43mobj\u001b[49m\u001b[38;5;241;43m.\u001b[39;49m\u001b[43m__sexp__\u001b[49m\u001b[38;5;241m.\u001b[39m_cdata\n\u001b[1;32m    180\u001b[0m \u001b[38;5;28;01mexcept\u001b[39;00m \u001b[38;5;167;01mAttributeError\u001b[39;00m:\n",
      "\u001b[0;31mAttributeError\u001b[0m: 'numpy.str_' object has no attribute '__sexp__'",
      "\nDuring handling of the above exception, another exception occurred:\n",
      "\u001b[0;31mValueError\u001b[0m                                Traceback (most recent call last)",
      "Cell \u001b[0;32mIn[108], line 41\u001b[0m\n\u001b[1;32m     39\u001b[0m \u001b[38;5;66;03m# Nomormalised\u001b[39;00m\n\u001b[1;32m     40\u001b[0m \u001b[38;5;28mprint\u001b[39m(\u001b[38;5;124m\"\u001b[39m\u001b[38;5;130;01m\\n\u001b[39;00m\u001b[38;5;130;01m\\n\u001b[39;00m\u001b[38;5;124mNormalised\u001b[39m\u001b[38;5;124m\"\u001b[39m)\n\u001b[0;32m---> 41\u001b[0m \u001b[43mrun_t_tests\u001b[49m\u001b[43m(\u001b[49m\u001b[38;5;124;43m'\u001b[39;49m\u001b[38;5;124;43mX_norm.csv\u001b[39;49m\u001b[38;5;124;43m'\u001b[39;49m\u001b[43m)\u001b[49m\n\u001b[1;32m     43\u001b[0m \u001b[38;5;66;03m# Un nomormalised\u001b[39;00m\n\u001b[1;32m     44\u001b[0m \u001b[38;5;28mprint\u001b[39m(\u001b[38;5;124m\"\u001b[39m\u001b[38;5;130;01m\\n\u001b[39;00m\u001b[38;5;130;01m\\n\u001b[39;00m\u001b[38;5;124mUn Normalised\u001b[39m\u001b[38;5;124m\"\u001b[39m)\n",
      "Cell \u001b[0;32mIn[108], line 32\u001b[0m, in \u001b[0;36mrun_t_tests\u001b[0;34m(data_file)\u001b[0m\n\u001b[1;32m     29\u001b[0m \u001b[38;5;28;01mfor\u001b[39;00m key \u001b[38;5;129;01min\u001b[39;00m \u001b[38;5;28mlist\u001b[39m(result\u001b[38;5;241m.\u001b[39mnames):\n\u001b[1;32m     30\u001b[0m     key_str \u001b[38;5;241m=\u001b[39m \u001b[38;5;28mstr\u001b[39m(key)  \u001b[38;5;66;03m# Convert to standard Python string\u001b[39;00m\n\u001b[1;32m     31\u001b[0m     t_test_results[key_str] \u001b[38;5;241m=\u001b[39m {\n\u001b[0;32m---> 32\u001b[0m         \u001b[38;5;124m\"\u001b[39m\u001b[38;5;124mstatistic\u001b[39m\u001b[38;5;124m\"\u001b[39m: \u001b[43mresult\u001b[49m\u001b[38;5;241;43m.\u001b[39;49m\u001b[43mrx2\u001b[49m\u001b[43m(\u001b[49m\u001b[43mkey\u001b[49m\u001b[43m)\u001b[49m\u001b[38;5;241m.\u001b[39mrx2(\u001b[38;5;124m\"\u001b[39m\u001b[38;5;124mstatistic\u001b[39m\u001b[38;5;124m\"\u001b[39m)[\u001b[38;5;241m0\u001b[39m],\n\u001b[1;32m     33\u001b[0m         \u001b[38;5;124m\"\u001b[39m\u001b[38;5;124mp_value\u001b[39m\u001b[38;5;124m\"\u001b[39m: result\u001b[38;5;241m.\u001b[39mrx2(key)\u001b[38;5;241m.\u001b[39mrx2(\u001b[38;5;124m\"\u001b[39m\u001b[38;5;124mp.value\u001b[39m\u001b[38;5;124m\"\u001b[39m)[\u001b[38;5;241m0\u001b[39m],\n\u001b[1;32m     34\u001b[0m         \u001b[38;5;124m\"\u001b[39m\u001b[38;5;124mdegrees_of_freedom\u001b[39m\u001b[38;5;124m\"\u001b[39m: result\u001b[38;5;241m.\u001b[39mrx2(key)\u001b[38;5;241m.\u001b[39mrx2(\u001b[38;5;124m\"\u001b[39m\u001b[38;5;124mparameter\u001b[39m\u001b[38;5;124m\"\u001b[39m)[\u001b[38;5;241m0\u001b[39m]\n\u001b[1;32m     35\u001b[0m     }\n\u001b[1;32m     37\u001b[0m \u001b[38;5;28;01mreturn\u001b[39;00m t_test_results\n",
      "File \u001b[0;32m~/repos/uq/STAT3006/.venv/lib/python3.12/site-packages/rpy2/robjects/vectors.py:84\u001b[0m, in \u001b[0;36mExtractDelegator.__call__\u001b[0;34m(self, *args, **kwargs)\u001b[0m\n\u001b[1;32m     82\u001b[0m     kwargs[k] \u001b[38;5;241m=\u001b[39m cv\u001b[38;5;241m.\u001b[39mpy2rpy(v)\n\u001b[1;32m     83\u001b[0m fun \u001b[38;5;241m=\u001b[39m \u001b[38;5;28mself\u001b[39m\u001b[38;5;241m.\u001b[39m_extractfunction\n\u001b[0;32m---> 84\u001b[0m res \u001b[38;5;241m=\u001b[39m \u001b[43mfun\u001b[49m\u001b[43m(\u001b[49m\u001b[38;5;241;43m*\u001b[39;49m\u001b[43mconv_args\u001b[49m\u001b[43m,\u001b[49m\u001b[43m \u001b[49m\u001b[38;5;241;43m*\u001b[39;49m\u001b[38;5;241;43m*\u001b[39;49m\u001b[43mkwargs\u001b[49m\u001b[43m)\u001b[49m\n\u001b[1;32m     85\u001b[0m res \u001b[38;5;241m=\u001b[39m cv\u001b[38;5;241m.\u001b[39mrpy2py(res)\n\u001b[1;32m     86\u001b[0m \u001b[38;5;28;01mreturn\u001b[39;00m res\n",
      "File \u001b[0;32m~/repos/uq/STAT3006/.venv/lib/python3.12/site-packages/rpy2/rinterface_lib/conversion.py:45\u001b[0m, in \u001b[0;36m_cdata_res_to_rinterface.<locals>._\u001b[0;34m(*args, **kwargs)\u001b[0m\n\u001b[1;32m     44\u001b[0m \u001b[38;5;28;01mdef\u001b[39;00m \u001b[38;5;21m_\u001b[39m(\u001b[38;5;241m*\u001b[39margs, \u001b[38;5;241m*\u001b[39m\u001b[38;5;241m*\u001b[39mkwargs):\n\u001b[0;32m---> 45\u001b[0m     cdata \u001b[38;5;241m=\u001b[39m \u001b[43mfunction\u001b[49m\u001b[43m(\u001b[49m\u001b[38;5;241;43m*\u001b[39;49m\u001b[43margs\u001b[49m\u001b[43m,\u001b[49m\u001b[43m \u001b[49m\u001b[38;5;241;43m*\u001b[39;49m\u001b[38;5;241;43m*\u001b[39;49m\u001b[43mkwargs\u001b[49m\u001b[43m)\u001b[49m\n\u001b[1;32m     46\u001b[0m     \u001b[38;5;66;03m# TODO: test cdata is of the expected CType\u001b[39;00m\n\u001b[1;32m     47\u001b[0m     \u001b[38;5;28;01mreturn\u001b[39;00m _cdata_to_rinterface(cdata)\n",
      "File \u001b[0;32m~/repos/uq/STAT3006/.venv/lib/python3.12/site-packages/rpy2/rinterface.py:859\u001b[0m, in \u001b[0;36mSexpClosure.__call__\u001b[0;34m(self, *args, **kwargs)\u001b[0m\n\u001b[1;32m    856\u001b[0m error_occured \u001b[38;5;241m=\u001b[39m _rinterface\u001b[38;5;241m.\u001b[39mffi\u001b[38;5;241m.\u001b[39mnew(\u001b[38;5;124m'\u001b[39m\u001b[38;5;124mint *\u001b[39m\u001b[38;5;124m'\u001b[39m, \u001b[38;5;241m0\u001b[39m)\n\u001b[1;32m    857\u001b[0m \u001b[38;5;28;01mwith\u001b[39;00m memorymanagement\u001b[38;5;241m.\u001b[39mrmemory() \u001b[38;5;28;01mas\u001b[39;00m rmemory:\n\u001b[1;32m    858\u001b[0m     call_r \u001b[38;5;241m=\u001b[39m rmemory\u001b[38;5;241m.\u001b[39mprotect(\n\u001b[0;32m--> 859\u001b[0m         \u001b[43m_rinterface\u001b[49m\u001b[38;5;241;43m.\u001b[39;49m\u001b[43mbuild_rcall\u001b[49m\u001b[43m(\u001b[49m\u001b[38;5;28;43mself\u001b[39;49m\u001b[38;5;241;43m.\u001b[39;49m\u001b[43m__sexp__\u001b[49m\u001b[38;5;241;43m.\u001b[39;49m\u001b[43m_cdata\u001b[49m\u001b[43m,\u001b[49m\u001b[43m \u001b[49m\u001b[43margs\u001b[49m\u001b[43m,\u001b[49m\n\u001b[1;32m    860\u001b[0m \u001b[43m                                \u001b[49m\u001b[43mkwargs\u001b[49m\u001b[38;5;241;43m.\u001b[39;49m\u001b[43mitems\u001b[49m\u001b[43m(\u001b[49m\u001b[43m)\u001b[49m\u001b[43m)\u001b[49m)\n\u001b[1;32m    861\u001b[0m     call_context \u001b[38;5;241m=\u001b[39m evaluation_context\u001b[38;5;241m.\u001b[39mget()\n\u001b[1;32m    862\u001b[0m     res \u001b[38;5;241m=\u001b[39m rmemory\u001b[38;5;241m.\u001b[39mprotect(\n\u001b[1;32m    863\u001b[0m         openrlib\u001b[38;5;241m.\u001b[39mrlib\u001b[38;5;241m.\u001b[39mR_tryEval(\n\u001b[1;32m    864\u001b[0m             call_r,\n\u001b[1;32m    865\u001b[0m             call_context\u001b[38;5;241m.\u001b[39m__sexp__\u001b[38;5;241m.\u001b[39m_cdata,\n\u001b[1;32m    866\u001b[0m             error_occured)\n\u001b[1;32m    867\u001b[0m     )\n",
      "File \u001b[0;32m~/repos/uq/STAT3006/.venv/lib/python3.12/site-packages/rpy2/rinterface_lib/_rinterface_capi.py:317\u001b[0m, in \u001b[0;36mbuild_rcall\u001b[0;34m(rfunction, args, kwargs)\u001b[0m\n\u001b[1;32m    315\u001b[0m item \u001b[38;5;241m=\u001b[39m rlib\u001b[38;5;241m.\u001b[39mCDR(rcall)\n\u001b[1;32m    316\u001b[0m \u001b[38;5;28;01mfor\u001b[39;00m val \u001b[38;5;129;01min\u001b[39;00m args:\n\u001b[0;32m--> 317\u001b[0m     cdata \u001b[38;5;241m=\u001b[39m rmemory\u001b[38;5;241m.\u001b[39mprotect(\u001b[43mconversion\u001b[49m\u001b[38;5;241;43m.\u001b[39;49m\u001b[43m_get_cdata\u001b[49m\u001b[43m(\u001b[49m\u001b[43mval\u001b[49m\u001b[43m)\u001b[49m)\n\u001b[1;32m    318\u001b[0m     rlib\u001b[38;5;241m.\u001b[39mSETCAR(item, cdata)\n\u001b[1;32m    319\u001b[0m     item \u001b[38;5;241m=\u001b[39m rlib\u001b[38;5;241m.\u001b[39mCDR(item)\n",
      "File \u001b[0;32m~/repos/uq/STAT3006/.venv/lib/python3.12/site-packages/rpy2/rinterface_lib/conversion.py:181\u001b[0m, in \u001b[0;36m_get_cdata\u001b[0;34m(obj)\u001b[0m\n\u001b[1;32m    179\u001b[0m         cdata \u001b[38;5;241m=\u001b[39m obj\u001b[38;5;241m.\u001b[39m__sexp__\u001b[38;5;241m.\u001b[39m_cdata\n\u001b[1;32m    180\u001b[0m     \u001b[38;5;28;01mexcept\u001b[39;00m \u001b[38;5;167;01mAttributeError\u001b[39;00m:\n\u001b[0;32m--> 181\u001b[0m         \u001b[38;5;28;01mraise\u001b[39;00m \u001b[38;5;167;01mValueError\u001b[39;00m(\u001b[38;5;124m'\u001b[39m\u001b[38;5;124mNot an rpy2 R object and unable \u001b[39m\u001b[38;5;124m'\u001b[39m\n\u001b[1;32m    182\u001b[0m                          \u001b[38;5;124m'\u001b[39m\u001b[38;5;124mto map it to one: \u001b[39m\u001b[38;5;132;01m%s\u001b[39;00m\u001b[38;5;124m'\u001b[39m \u001b[38;5;241m%\u001b[39m \u001b[38;5;28mrepr\u001b[39m(obj))\n\u001b[1;32m    183\u001b[0m \u001b[38;5;28;01melse\u001b[39;00m:\n\u001b[1;32m    184\u001b[0m     cdata \u001b[38;5;241m=\u001b[39m \u001b[38;5;28mcls\u001b[39m(obj)\n",
      "\u001b[0;31mValueError\u001b[0m: Not an rpy2 R object and unable to map it to one: np.str_('logcp')"
     ]
    }
   ],
   "source": [
    "def run_t_tests(data_file):\n",
    "    pandas2ri.activate()\n",
    "    r_code = f\"\"\"\n",
    "    library(Hotelling)\n",
    "\n",
    "    # Load the data\n",
    "    data <- read.csv(\"{data_file}\")\n",
    "\n",
    "    # Separate the groups\n",
    "    group0 <- data[data$death_event == 0, 1:5]\n",
    "    group1 <- data[data$death_event == 1, 1:5]\n",
    "\n",
    "    # Initialize a list to store t-test results\n",
    "    t_tests_results <- list()\n",
    "\n",
    "    # Perform t-tests for each variable\n",
    "    for (i in 1:5) {{\n",
    "        t_test_result <- t.test(group0[[i]], group1[[i]])\n",
    "        t_tests_results[[names(data)[i]]] <- t_test_result\n",
    "    }}\n",
    "\n",
    "    t_tests_results\n",
    "    \"\"\"\n",
    "    # Execute the R code and return results as a Python dictionary\n",
    "    result = ro.r(r_code)\n",
    "    print(result)\n",
    "\n",
    "# Nomormalised\n",
    "print(\"\\n\\nNormalised\")\n",
    "run_t_tests('X_norm.csv')\n",
    "\n",
    "# Un nomormalised\n",
    "print(\"\\n\\nUn Normalised\")\n",
    "run_t_tests('X_trans.csv')\n",
    "\n",
    "# Normalised followed by PCA\n",
    "print(\"\\n\\nNormalised + PCA\")\n",
    "run_t_tests('X_pca.csv')"
   ]
  }
 ],
 "metadata": {
  "kernelspec": {
   "display_name": ".venv",
   "language": "python",
   "name": "python3"
  },
  "language_info": {
   "codemirror_mode": {
    "name": "ipython",
    "version": 3
   },
   "file_extension": ".py",
   "mimetype": "text/x-python",
   "name": "python",
   "nbconvert_exporter": "python",
   "pygments_lexer": "ipython3",
   "version": "3.12.4"
  }
 },
 "nbformat": 4,
 "nbformat_minor": 2
}
