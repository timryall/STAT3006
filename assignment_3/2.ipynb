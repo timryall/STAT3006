{
 "cells": [
  {
   "cell_type": "code",
   "execution_count": 9,
   "metadata": {},
   "outputs": [
    {
     "name": "stderr",
     "output_type": "stream",
     "text": [
      "/home/timryall/repos/uq/STAT3006/.venv/lib/python3.12/site-packages/sklearn/discriminant_analysis.py:947: UserWarning: Variables are collinear\n",
      "  warnings.warn(\"Variables are collinear\")\n"
     ]
    },
    {
     "name": "stdout",
     "output_type": "stream",
     "text": [
      "qda_accuracy=0.5694\n",
      "rf_accuracy=0.8852\n",
      "qda_conf_matrix=array([[623,  73,  27, 178,   8,   0,  50,   0,  41,   0],\n",
      "       [  0, 955,   0,  29,   2,   0,  12,   0,   2,   0],\n",
      "       [  1,   1, 352, 299, 251,   0,  71,   0,  25,   0],\n",
      "       [  1, 506,   1, 468,   2,   0,  18,   0,   4,   0],\n",
      "       [  0,  14,  25, 444, 467,   0,  42,   0,   8,   0],\n",
      "       [  0,   1,   0,   2,   0,  94,   9, 594,  32, 268],\n",
      "       [111,  41,  43, 374, 226,   0, 156,   0,  49,   0],\n",
      "       [  0,   0,   0,   0,   0,   3,   0, 959,   0,  38],\n",
      "       [  1,  16,   6,  92,  18,   2,  15,   1, 848,   1],\n",
      "       [  0,   0,   0,   1,   0,   6,   0, 212,   9, 772]])\n",
      "rf_conf_matrix=array([[860,   0,  12,  31,   4,   1,  79,   0,  13,   0],\n",
      "       [  2, 971,   5,  17,   1,   1,   3,   0,   0,   0],\n",
      "       [  8,   1, 801,  13, 113,   0,  56,   0,   8,   0],\n",
      "       [ 17,   6,   8, 937,  18,   0,  14,   0,   0,   0],\n",
      "       [  1,   1,  64,  26, 863,   0,  42,   0,   3,   0],\n",
      "       [  0,   0,   0,   0,   0, 947,   0,  37,   5,  11],\n",
      "       [166,   1,  99,  28,  75,   0, 612,   0,  19,   0],\n",
      "       [  0,   0,   0,   0,   0,  13,   0, 937,   0,  50],\n",
      "       [  1,   1,   7,   0,   3,   1,  10,   2, 975,   0],\n",
      "       [  0,   0,   0,   0,   0,   7,   1,  41,   2, 949]])\n",
      "qda_report='              precision    recall  f1-score   support\\n\\n           0       0.85      0.62      0.72      1000\\n           1       0.59      0.95      0.73      1000\\n           2       0.78      0.35      0.48      1000\\n           3       0.25      0.47      0.32      1000\\n           4       0.48      0.47      0.47      1000\\n           5       0.90      0.09      0.17      1000\\n           6       0.42      0.16      0.23      1000\\n           7       0.54      0.96      0.69      1000\\n           8       0.83      0.85      0.84      1000\\n           9       0.72      0.77      0.74      1000\\n\\n    accuracy                           0.57     10000\\n   macro avg       0.63      0.57      0.54     10000\\nweighted avg       0.63      0.57      0.54     10000\\n'\n",
      "rf_report='              precision    recall  f1-score   support\\n\\n           0       0.82      0.86      0.84      1000\\n           1       0.99      0.97      0.98      1000\\n           2       0.80      0.80      0.80      1000\\n           3       0.89      0.94      0.91      1000\\n           4       0.80      0.86      0.83      1000\\n           5       0.98      0.95      0.96      1000\\n           6       0.75      0.61      0.67      1000\\n           7       0.92      0.94      0.93      1000\\n           8       0.95      0.97      0.96      1000\\n           9       0.94      0.95      0.94      1000\\n\\n    accuracy                           0.89     10000\\n   macro avg       0.88      0.89      0.88     10000\\nweighted avg       0.88      0.89      0.88     10000\\n'\n"
     ]
    }
   ],
   "source": [
    "import numpy as np\n",
    "import pandas as pd\n",
    "from sklearn.model_selection import train_test_split\n",
    "from sklearn.preprocessing import StandardScaler\n",
    "from sklearn.discriminant_analysis import QuadraticDiscriminantAnalysis\n",
    "from sklearn.ensemble import RandomForestClassifier\n",
    "from sklearn.metrics import accuracy_score, confusion_matrix, classification_report\n",
    "\n",
    "# Load the CSV files\n",
    "train_data = pd.read_csv('./data/fashion-mnist_train.csv')\n",
    "test_data = pd.read_csv('./data/fashion-mnist_test.csv')\n",
    "\n",
    "# Separate features (X) and labels (y) for training and testing\n",
    "X_train = train_data.iloc[:, 1:].values  \n",
    "y_train = train_data.iloc[:, 0].values  \n",
    "\n",
    "X_test = test_data.iloc[:, 1:].values    \n",
    "y_test = test_data.iloc[:, 0].values  \n",
    "\n",
    "# normalize/scale the pixel values to [0, 1]\n",
    "X_train = X_train / 255.0\n",
    "X_test = X_test / 255.0\n",
    "\n",
    "\n",
    "\n",
    "\n",
    "# Normalizing the data\n",
    "scaler = StandardScaler()\n",
    "X_train = scaler.fit_transform(X_train)\n",
    "X_test = scaler.transform(X_test)\n",
    "\n",
    "# Initialize the classifiers\n",
    "qda = QuadraticDiscriminantAnalysis()\n",
    "rf = RandomForestClassifier(n_estimators=100, random_state=42)\n",
    "\n",
    "# Train Quadratic Discriminant Analysis (QDA)\n",
    "qda.fit(X_train, y_train)\n",
    "\n",
    "# Train Random Forest Classifier\n",
    "rf.fit(X_train, y_train)\n",
    "\n",
    "# Predict using QDA\n",
    "y_pred_qda = qda.predict(X_test)\n",
    "\n",
    "# Predict using Random Forest\n",
    "y_pred_rf = rf.predict(X_test)\n",
    "\n",
    "# Evaluating the models\n",
    "qda_accuracy = accuracy_score(y_test, y_pred_qda)\n",
    "rf_accuracy = accuracy_score(y_test, y_pred_rf)\n",
    "\n",
    "qda_conf_matrix = confusion_matrix(y_test, y_pred_qda)\n",
    "rf_conf_matrix = confusion_matrix(y_test, y_pred_rf)\n",
    "\n",
    "qda_report = classification_report(y_test, y_pred_qda)\n",
    "rf_report = classification_report(y_test, y_pred_rf)\n",
    "\n",
    "\n",
    "print(f\"{qda_accuracy=}\")\n",
    "print(f\"{rf_accuracy=}\")\n",
    "print(f\"{qda_conf_matrix=}\")\n",
    "print(f\"{rf_conf_matrix=}\")\n",
    "print(f\"{qda_report=}\")\n",
    "print(f\"{rf_report=}\")\n",
    "\n"
   ]
  },
  {
   "cell_type": "code",
   "execution_count": 18,
   "metadata": {},
   "outputs": [
    {
     "name": "stdout",
     "output_type": "stream",
     "text": [
      "QDA Accuracy after PCA: 0.7244\n"
     ]
    }
   ],
   "source": [
    "from sklearn.decomposition import PCA\n",
    "\n",
    "# Applying PCA to reduce dimensionality\n",
    "pca = PCA(n_components=20)\n",
    "X_train_pca = pca.fit_transform(X_train)\n",
    "X_test_pca = pca.transform(X_test)\n",
    "\n",
    "# Train QDA on the reduced dataset\n",
    "qda.fit(X_train_pca, y_train)\n",
    "y_pred_qda = qda.predict(X_test_pca)\n",
    "accuracy_qda = accuracy_score(y_test, y_pred_qda)\n",
    "print(f\"QDA Accuracy after PCA: {accuracy_qda}\")"
   ]
  },
  {
   "cell_type": "code",
   "execution_count": 22,
   "metadata": {},
   "outputs": [
    {
     "name": "stdout",
     "output_type": "stream",
     "text": [
      "MDDA Accuracy: 0.7013\n"
     ]
    }
   ],
   "source": [
    "from sklearn.mixture import GaussianMixture\n",
    "from sklearn.metrics import accuracy_score\n",
    "\n",
    "# Define number of components for GMM (adjust based on complexity of the data)\n",
    "n_components = 5  # You can try different values (e.g., 2, 3, 5, etc.)\n",
    "\n",
    "# Train a GMM for each class\n",
    "gmm_models = {}\n",
    "for label in np.unique(y_train):\n",
    "    gmm = GaussianMixture(n_components=n_components, covariance_type='full', random_state=42)\n",
    "    gmm.fit(X_train[y_train == label])\n",
    "    gmm_models[label] = gmm\n",
    "\n",
    "# Predict function for MDDA\n",
    "def predict_mdda(X):\n",
    "    probs = np.zeros((X.shape[0], len(gmm_models)))\n",
    "    for label, gmm in gmm_models.items():\n",
    "        probs[:, label] = gmm.score_samples(X)  # Log-likelihood of the data under each GMM\n",
    "    return np.argmax(probs, axis=1)\n",
    "\n",
    "# Predict using MDDA\n",
    "y_pred_mdda = predict_mdda(X_test)\n",
    "\n",
    "# Evaluate MDDA accuracy\n",
    "accuracy_mdda = accuracy_score(y_test, y_pred_mdda)\n",
    "print(f\"MDDA Accuracy: {accuracy_mdda}\")\n"
   ]
  }
 ],
 "metadata": {
  "kernelspec": {
   "display_name": ".venv",
   "language": "python",
   "name": "python3"
  },
  "language_info": {
   "codemirror_mode": {
    "name": "ipython",
    "version": 3
   },
   "file_extension": ".py",
   "mimetype": "text/x-python",
   "name": "python",
   "nbconvert_exporter": "python",
   "pygments_lexer": "ipython3",
   "version": "3.12.4"
  }
 },
 "nbformat": 4,
 "nbformat_minor": 2
}
