{
 "cells": [
  {
   "cell_type": "code",
   "execution_count": 1,
   "metadata": {},
   "outputs": [],
   "source": [
    "import pandas as pd\n",
    "from sklearn.model_selection import train_test_split\n",
    "from sklearn.linear_model import LogisticRegression\n",
    "from sklearn.tree import DecisionTreeClassifier\n",
    "from sklearn.metrics import accuracy_score\n",
    "from sklearn.preprocessing import StandardScaler\n",
    "from sklearn.decomposition import PCA\n",
    "\n",
    "# Load data\n",
    "sample_info = pd.read_csv('data/brain_sample_descriptions_PFC.csv')\n",
    "gene_data = pd.read_csv('data/braindat.csv', index_col=0).T\n",
    "\n",
    "# Merge datasets on common identifier\n",
    "data = sample_info.merge(gene_data, left_on='!Sample_geo_accession', right_index=True, how='inner')\n",
    "\n",
    "# Extract features and target variable\n",
    "X = data.drop(columns=['Disease'])\n",
    "y = data['Disease']  # Assuming binary target variable\n",
    "\n",
    "# Split data into training and test sets\n",
    "X_train, X_test, y_train, y_test = train_test_split(X, y, test_size=0.2, random_state=42)\n",
    "\n",
    "# Standardize features for logistic regression\n",
    "scaler = StandardScaler()\n",
    "X_train_scaled = scaler.fit_transform(X_train)\n",
    "X_test_scaled = scaler.transform(X_test)\n",
    "\n",
    "# Apply PCA for logistic regression with Lasso\n",
    "pca = PCA(n_components=0.95)  # Retain 95% of variance\n",
    "X_train_pca = pca.fit_transform(X_train_scaled)\n",
    "X_test_pca = pca.transform(X_test_scaled)\n",
    "\n",
    "# Logistic Regression with Lasso\n",
    "lasso_log_reg = LogisticRegression(penalty='l1', solver='saga', max_iter=1000, random_state=42)\n",
    "lasso_log_reg.fit(X_train_pca, y_train)\n",
    "y_pred_lasso = lasso_log_reg.predict(X_test_pca)\n",
    "lasso_accuracy = accuracy_score(y_test, y_pred_lasso)\n",
    "\n",
    "# Decision Tree Classifier\n",
    "decision_tree = DecisionTreeClassifier(random_state=42)\n",
    "decision_tree.fit(X_train, y_train)\n",
    "y_pred_tree = decision_tree.predict(X_test)\n",
    "tree_accuracy = accuracy_score(y_test, y_pred_tree)\n",
    "\n",
    "# Report accuracies\n",
    "print(f\"Logistic Regression with Lasso (using PCA): Accuracy = {lasso_accuracy:.4f}\")\n",
    "print(f\"Decision Tree Classifier: Accuracy = {tree_accuracy:.4f}\")\n"
   ]
  }
 ],
 "metadata": {
  "kernelspec": {
   "display_name": ".venv",
   "language": "python",
   "name": "python3"
  },
  "language_info": {
   "codemirror_mode": {
    "name": "ipython",
    "version": 3
   },
   "file_extension": ".py",
   "mimetype": "text/x-python",
   "name": "python",
   "nbconvert_exporter": "python",
   "pygments_lexer": "ipython3",
   "version": "3.12.4"
  }
 },
 "nbformat": 4,
 "nbformat_minor": 2
}
