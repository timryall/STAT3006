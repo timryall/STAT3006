{
 "cells": [
  {
   "cell_type": "code",
   "execution_count": 2,
   "metadata": {},
   "outputs": [
    {
     "name": "stdout",
     "output_type": "stream",
     "text": [
      "GeneID: 10025934933, Total Score: 660\n",
      "GeneID: 10023815322, Total Score: 625\n",
      "GeneID: 10023816018, Total Score: 522\n",
      "GeneID: 10025908435, Total Score: 210\n",
      "GeneID: 10023809844, Total Score: 156\n",
      "GeneID: 10025904476, Total Score: 104\n",
      "GeneID: 10023827871, Total Score: 75\n",
      "GeneID: 10025929611, Total Score: 30\n",
      "GeneID: 10023814349, Total Score: 29\n",
      "GeneID: 10025909808, Total Score: 29\n"
     ]
    }
   ],
   "source": [
    "method1_genes = [\n",
    "    10025908435, 10023816018, 10025923114, 10026391091, 10033668510, 10023815322,\n",
    "    10025910394, 10025906503, 10025934933, 10025910121, 10025908598, 10033668850,\n",
    "    10023819474, 10023822632, 10025905029, 10025911097, 10025908549, 10033668934,\n",
    "    10025904757, 10023829361, 10025903807, 10023836747, 10025904476, 10031919807,\n",
    "    10023812264, 10025911867, 10025909612, 10023827871, 10023820526, 10023824420\n",
    "]\n",
    "\n",
    "method2_genes = [\n",
    "    10025929611, 10023814349, 10025918353, 10023828793, 10023833276, 10023827871,\n",
    "    10023824734, 10025932435, 10025927197, 10025926848, 10023839230, 10025923022,\n",
    "    10025908601, 10025928439, 10025919551, 10025903058, 10025912500, 10025904476,\n",
    "    10023809844, 10025910723, 10023836075, 10033668936, 10023842801, 10025908435,\n",
    "    10023823964, 10033668724, 10025904331, 10025909739, 10023822775, 10025910280\n",
    "]\n",
    "\n",
    "method3_genes = [\n",
    "    10025934933, 10025909808, 10025906631, 10023831601, 10033668759, 10023815322,\n",
    "    10025910913, 10023810110, 10023819379, 10023827344, 10025905801, 10023817381,\n",
    "    10023816018, 10023812578, 10023818489, 10025916012, 10025904300, 10023809844,\n",
    "    10025911139, 10023823173, 10023808432, 10025914571, 10023827687, 10023840862,\n",
    "    10023830113, 10025932010, 10023831506, 10025930204, 10023804764, 10025904885\n",
    "]\n",
    "\n",
    "# Function to assign scores\n",
    "def assign_scores(gene_list):\n",
    "    return {gene: score for gene, score in zip(gene_list, range(30, 0, -1))}\n",
    "\n",
    "# Assign scores to each method\n",
    "scores_method1 = assign_scores(method1_genes)\n",
    "scores_method2 = assign_scores(method2_genes)\n",
    "scores_method3 = assign_scores(method3_genes)\n",
    "\n",
    "# Sum up scores across methods\n",
    "combined_scores = {}\n",
    "for gene_dict in [scores_method1, scores_method2, scores_method3]:\n",
    "    for gene, score in gene_dict.items():\n",
    "        combined_scores[gene] = combined_scores.get(gene, 1) * score\n",
    "\n",
    "# Find the highest scoring genes\n",
    "top_genes = sorted(combined_scores.items(), key=lambda x: x[1], reverse=True)[:10]\n",
    "\n",
    "# Report the top genes and their scores\n",
    "for gene, score in top_genes:\n",
    "    print(f\"GeneID: {gene}, Total Score: {score}\")\n"
   ]
  }
 ],
 "metadata": {
  "kernelspec": {
   "display_name": ".venv",
   "language": "python",
   "name": "python3"
  },
  "language_info": {
   "codemirror_mode": {
    "name": "ipython",
    "version": 3
   },
   "file_extension": ".py",
   "mimetype": "text/x-python",
   "name": "python",
   "nbconvert_exporter": "python",
   "pygments_lexer": "ipython3",
   "version": "3.12.4"
  }
 },
 "nbformat": 4,
 "nbformat_minor": 2
}
