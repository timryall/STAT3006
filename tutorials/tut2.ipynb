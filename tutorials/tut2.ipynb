{
 "cells": [
  {
   "cell_type": "code",
   "execution_count": 1,
   "metadata": {},
   "outputs": [
    {
     "name": "stdout",
     "output_type": "stream",
     "text": [
      "Correlation Matrix 1:\n",
      " [[ 1.          0.71531806  0.27147633]\n",
      " [ 0.71531806  1.         -0.47836256]\n",
      " [ 0.27147633 -0.47836256  1.        ]]\n",
      "Correlation Matrix 2:\n",
      " [[ 1.         -0.99432444  0.67876556]\n",
      " [-0.99432444  1.         -0.75303379]\n",
      " [ 0.67876556 -0.75303379  1.        ]]\n",
      "Correlation Matrix 3:\n",
      " [[ 1.         -0.82057695  0.60779367]\n",
      " [-0.82057695  1.         -0.95259169]\n",
      " [ 0.60779367 -0.95259169  1.        ]]\n"
     ]
    }
   ],
   "source": [
    "import numpy as np\n",
    "from scipy.linalg import eigh\n",
    "\n",
    "# Function to generate a random symmetric matrix\n",
    "def generate_symmetric_matrix(d):\n",
    "    # Create random values from U[-1, 1] for upper triangular part\n",
    "    mat = np.random.uniform(-1, 1, size=(d, d))\n",
    "    \n",
    "    # Make the matrix symmetric\n",
    "    mat = np.triu(mat)\n",
    "    mat += mat.T - np.diag(mat.diagonal())\n",
    "    \n",
    "    return mat\n",
    "\n",
    "# Function to correct the matrix to be positive definite\n",
    "def make_positive_definite(mat, epsilon=1e-6):\n",
    "    # Eigen decomposition\n",
    "    eigenvalues, eigenvectors = eigh(mat)\n",
    "    \n",
    "    # If the smallest eigenvalue is negative, shift all eigenvalues\n",
    "    lambda_min = np.min(eigenvalues)\n",
    "    if lambda_min <= 0:\n",
    "        mat += np.eye(mat.shape[0]) * (-lambda_min + epsilon)\n",
    "    \n",
    "    return mat\n",
    "\n",
    "# Function to convert a covariance matrix to a correlation matrix\n",
    "def cov_to_corr(mat):\n",
    "    d = np.sqrt(np.diag(mat))\n",
    "    return mat / np.outer(d, d)\n",
    "\n",
    "# Function to generate a valid correlation matrix\n",
    "def generate_correlation_matrix(d):\n",
    "    # Step 1: Generate a random symmetric matrix\n",
    "    sym_mat = generate_symmetric_matrix(d)\n",
    "    \n",
    "    # Step 2: Make it positive definite\n",
    "    pos_def_mat = make_positive_definite(sym_mat)\n",
    "    \n",
    "    # Step 3: Convert to a correlation matrix\n",
    "    cor_mat = cov_to_corr(pos_def_mat)\n",
    "    \n",
    "    return cor_mat\n",
    "\n",
    "# Generate three 3x3 correlation matrices\n",
    "np.random.seed(42)  # Set seed for reproducibility\n",
    "cor_matrix_1 = generate_correlation_matrix(3)\n",
    "cor_matrix_2 = generate_correlation_matrix(3)\n",
    "cor_matrix_3 = generate_correlation_matrix(3)\n",
    "\n",
    "# Print the matrices\n",
    "print(\"Correlation Matrix 1:\\n\", cor_matrix_1)\n",
    "print(\"Correlation Matrix 2:\\n\", cor_matrix_2)\n",
    "print(\"Correlation Matrix 3:\\n\", cor_matrix_3)\n"
   ]
  }
 ],
 "metadata": {
  "kernelspec": {
   "display_name": ".venv",
   "language": "python",
   "name": "python3"
  },
  "language_info": {
   "codemirror_mode": {
    "name": "ipython",
    "version": 3
   },
   "file_extension": ".py",
   "mimetype": "text/x-python",
   "name": "python",
   "nbconvert_exporter": "python",
   "pygments_lexer": "ipython3",
   "version": "3.12.4"
  }
 },
 "nbformat": 4,
 "nbformat_minor": 2
}
