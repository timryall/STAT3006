{
 "cells": [
  {
   "cell_type": "code",
   "execution_count": 9,
   "metadata": {},
   "outputs": [
    {
     "name": "stdout",
     "output_type": "stream",
     "text": [
      "Correlation Matrix:\n",
      " [[1.  0.5 0. ]\n",
      " [0.5 1.  0.5]\n",
      " [0.  0.5 1. ]]\n"
     ]
    }
   ],
   "source": [
    "import numpy as np\n",
    "\n",
    "# Define the mean vector\n",
    "mean = np.array([3, 4, 2])\n",
    "\n",
    "# Define the covariance matrix\n",
    "cov = np.array([\n",
    "    [4, 2, 0],\n",
    "    [2, 4, 2],\n",
    "    [0, 2, 4]\n",
    "])\n",
    "\n",
    "# Calculate the standard deviations\n",
    "std_dev = np.diag(np.sqrt(np.diag(cov)))\n",
    "\n",
    "# Calculate the correlation matrix\n",
    "correlation_matrix = np.linalg.inv(std_dev) @ cov @ np.linalg.inv(std_dev)\n",
    "\n",
    "# Print the correlation matrix\n",
    "print(\"Correlation Matrix:\\n\", correlation_matrix)\n"
   ]
  }
 ],
 "metadata": {
  "kernelspec": {
   "display_name": ".venv",
   "language": "python",
   "name": "python3"
  },
  "language_info": {
   "codemirror_mode": {
    "name": "ipython",
    "version": 3
   },
   "file_extension": ".py",
   "mimetype": "text/x-python",
   "name": "python",
   "nbconvert_exporter": "python",
   "pygments_lexer": "ipython3",
   "version": "3.12.4"
  }
 },
 "nbformat": 4,
 "nbformat_minor": 2
}
